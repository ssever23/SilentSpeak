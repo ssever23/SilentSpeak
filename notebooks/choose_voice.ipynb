{
 "cells": [
  {
   "cell_type": "code",
   "execution_count": 14,
   "id": "8b45e0c6",
   "metadata": {},
   "outputs": [],
   "source": [
    "import asyncio, edge_tts"
   ]
  },
  {
   "cell_type": "code",
   "execution_count": 15,
   "id": "753eca18",
   "metadata": {},
   "outputs": [],
   "source": [
    "def choose_voice(age_years: float, gender: str, locale='en-US'):\n",
    "    \"\"\"\n",
    "    Returns a Microsoft Edge TTS voice name keyed by locale, age band, and gender, all in English.\n",
    "    \"\"\"\n",
    "    # coarse bands: teen, young adult, adult, senior\n",
    "    if age_years is None or gender not in ('male','female'):\n",
    "        # safe fallback\n",
    "        return f\"{locale}-AriaNeural\"  # neutral/friendly female\n",
    "\n",
    "    if age_years < 10:\n",
    "        return f\"{locale}-AnaNeural\" if gender=='female' else f\"{locale}-FableTurboMultilingualNeural\"\n",
    "    elif age_years < 18:\n",
    "        return f\"{locale}-JennyMultilingualNeural\" if gender=='female' else f\"{locale}-RyanMultilingualNeural\"\n",
    "    elif age_years < 30:\n",
    "        return f\"{locale}-AriaNeural\" if gender=='female' else f\"{locale}-GuyNeural\"\n",
    "    elif age_years < 55:\n",
    "        return f\"{locale}-SaraNeural\" if gender=='female' else f\"{locale}-DavisNeural\""
   ]
  },
  {
   "cell_type": "code",
   "execution_count": 16,
   "id": "03cd1ceb",
   "metadata": {},
   "outputs": [],
   "source": [
    "async def tts_to_file(text: str, voice: str, out_wav: str, rate=\"+0%\", pitch=\"+0Hz\"):\n",
    "    if voice == 'en-US-FableTurboMultilingualNeural':\n",
    "        pitch = \"+35Hz\"\n",
    "    communicate = edge_tts.Communicate(text, voice=voice, rate=rate, pitch=pitch)\n",
    "    print(voice)\n",
    "    with open(out_wav, \"wb\") as f:\n",
    "        async for chunk in communicate.stream():\n",
    "            if chunk[\"type\"] == \"audio\":\n",
    "                f.write(chunk[\"data\"])\n",
    "\n",
    "def speak_text(text, voice, out_wav=\"output.wav\"):\n",
    "    coro = tts_to_file(text, voice, out_wav)\n",
    "    try:\n",
    "        loop = asyncio.get_running_loop()  # notebook: loop is running\n",
    "    except RuntimeError:\n",
    "        return asyncio.run(coro)           # script: no loop -> run now\n",
    "    else:\n",
    "        # notebook: schedule and return the Task so the caller can await it\n",
    "        return asyncio.create_task(coro)"
   ]
  },
  {
   "cell_type": "code",
   "execution_count": null,
   "id": "b17e1313",
   "metadata": {},
   "outputs": [],
   "source": [
    "out_wav = \"/home/ssever/SilentSpeak/audio.wav\"\n",
    "audio = speak_text(\"Hi, my name is Chris!\", choose_voice(25, 'male'), out_wav)\n",
    "await audio"
   ]
  },
  {
   "cell_type": "code",
   "execution_count": null,
   "id": "fb248387",
   "metadata": {},
   "outputs": [],
   "source": [
    "from IPython.display import Audio, display\n",
    "display(Audio(\"/home/ssever/SilentSpeak/audio.wav\", autoplay=False))"
   ]
  }
 ],
 "metadata": {
  "kernelspec": {
   "display_name": "speak",
   "language": "python",
   "name": "python3"
  },
  "language_info": {
   "codemirror_mode": {
    "name": "ipython",
    "version": 3
   },
   "file_extension": ".py",
   "mimetype": "text/x-python",
   "name": "python",
   "nbconvert_exporter": "python",
   "pygments_lexer": "ipython3",
   "version": "3.10.18"
  }
 },
 "nbformat": 4,
 "nbformat_minor": 5
}
