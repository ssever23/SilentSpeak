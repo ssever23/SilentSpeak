{
 "cells": [
  {
   "cell_type": "code",
   "execution_count": null,
   "id": "6f69537f",
   "metadata": {},
   "outputs": [],
   "source": [
    "import cv2, numpy as np\n",
    "from insightface.app import FaceAnalysis\n",
    "cv2.setNumThreads(1)"
   ]
  },
  {
   "cell_type": "code",
   "execution_count": null,
   "id": "21b0bb4b",
   "metadata": {},
   "outputs": [],
   "source": [
    "def estimate_age_gender(video_path, sample_stride=5):\n",
    "    \"\"\"\n",
    "    Returns (age_mean, age_median, gender_mode, stats_dict) from visual frames.\n",
    "    - sample_stride: analyze every Nth frame for speed\n",
    "    - gender: 'male' or 'female' (string), based on per-frame argmax logits\n",
    "    \"\"\"\n",
    "    app = FaceAnalysis(name='buffalo_l', allowed_modules=['detection', 'genderage'])  # good default bundle\n",
    "    app.prepare(ctx_id=0, det_size=(640, 640))  # ctx_id=-1 for CPU, 0 for GPU\n",
    "    \n",
    "    # Load video file\n",
    "    cap = cv2.VideoCapture(video_path)\n",
    "    assert cap.isOpened(), f\"Could not open {video_path}\"\n",
    "    \n",
    "    ages, genders = [], []\n",
    "    frame_idx = 0\n",
    "\n",
    "    # Read every N-th frame\n",
    "    while True:\n",
    "        ok, frame = cap.read()\n",
    "        if not ok:\n",
    "            break\n",
    "        if frame_idx % sample_stride != 0:\n",
    "            frame_idx += 1\n",
    "            continue\n",
    "    \n",
    "        # Detect the most central face.\n",
    "        faces = app.get(frame)\n",
    "        if faces:\n",
    "            # get image center\n",
    "            H, W = frame.shape[:2]\n",
    "            cx, cy = W/2, H/2\n",
    "            # sort faces by acending order from distance to center\n",
    "            faces.sort(key=lambda f: ( (f.bbox[0]+f.bbox[2])/2 - cx )**2 + ( (f.bbox[1]+f.bbox[3])/2 - cy )**2)\n",
    "            # pick face closest to the center\n",
    "            f0 = faces[0]\n",
    "            # determine age\n",
    "            if f0.age is not None:\n",
    "                ages.append(float(f0.age))\n",
    "            # determine gender\n",
    "            if f0.gender is not None:\n",
    "                genders.append('male' if int(f0.gender) == 1 else 'female')\n",
    "\n",
    "        frame_idx += 1\n",
    "        \n",
    "    cap.release()\n",
    "    \n",
    "    #if len(ages) < max(5, min_frames):\n",
    "    #    return None, None, None, {\"frames_analyzed\": len(ages)}\n",
    "    \n",
    "    \n",
    "    age_arr = np.array(ages, dtype=float)\n",
    "    # robust smoothing: median is less sensitive; also clip to plausible range\n",
    "    age_median = int(np.clip(np.median(age_arr), 5, 90)) if ages else None\n",
    "    age_mean = int(np.clip(np.mean(age_arr), 5, 90)) if ages else None\n",
    "    \n",
    "    # pick gender that was detected most often\n",
    "    gender = max(set(genders), key=genders.count) if genders else None\n",
    "\n",
    "    return age_median, age_mean, gender, {\n",
    "        \"frames_analyzed\": len(ages) or len(genders),\n",
    "        \"age_samples\": len(ages),\n",
    "        \"gender_samples\": len(genders)\n",
    "    }"
   ]
  },
  {
   "cell_type": "code",
   "execution_count": null,
   "id": "1b136279",
   "metadata": {},
   "outputs": [],
   "source": [
    "video_path = \"/home/ssever/SilentSpeak/data/input_video/avhubert_demo_video_8s.mp4\"\n",
    "\n",
    "estimate_age_gender(video_path)[:3]"
   ]
  }
 ],
 "metadata": {
  "kernelspec": {
   "display_name": "speak",
   "language": "python",
   "name": "python3"
  },
  "language_info": {
   "codemirror_mode": {
    "name": "ipython",
    "version": 3
   },
   "file_extension": ".py",
   "mimetype": "text/x-python",
   "name": "python",
   "nbconvert_exporter": "python",
   "pygments_lexer": "ipython3",
   "version": "3.10.18"
  }
 },
 "nbformat": 4,
 "nbformat_minor": 5
}
